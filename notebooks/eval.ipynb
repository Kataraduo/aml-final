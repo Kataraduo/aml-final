{
 "cells": [
  {
   "cell_type": "code",
   "execution_count": 36,
   "id": "bafc2adb-3ccb-4353-b4ee-a51c757bd43e",
   "metadata": {},
   "outputs": [
    {
     "name": "stdout",
     "output_type": "stream",
     "text": [
      "CIDEr score: 0.0\n"
     ]
    }
   ],
   "source": [
    "from pycocoevalcap.cider.cider import Cider\n",
    "\n",
    "def compute_cider_score(candidate_captions, reference_captions):\n",
    "    # The scorer expects a dictionary with a list of references for each image\n",
    "    # Since we have only one reference per image, we will wrap it into a list\n",
    "    cider_scorer = Cider()\n",
    "    score, scores = cider_scorer.compute_score(reference_captions, candidate_captions)\n",
    "    return score\n",
    "\n",
    "\n",
    "candidate_captions = {\n",
    "    'image1': ['man riding a motor bike on a dirt road']\n",
    "}\n",
    "\n",
    "reference_captions = {\n",
    "    'image1': 'man riding a motor bike on a dirt road',\n",
    "}\n",
    "\n",
    "# Wrap the reference caption in a list as required by the scorer\n",
    "formatted_reference_captions = {key: [value] for key, value in reference_captions.items()}\n",
    "\n",
    "formatted_reference_captions = {\n",
    "    'image1': ['man riding a motor bike on a dirt road']\n",
    "}\n",
    "\n",
    "# candidate_captions should already be in the correct format as per 'pycocoevalcap'\n",
    "# i.e., a dictionary with image IDs as keys and predicted captions as values\n",
    "\n",
    "# Compute CIDEr score\n",
    "cider_score = compute_cider_score(candidate_captions, formatted_reference_captions)\n",
    "print(f\"CIDEr score: {cider_score}\")\n"
   ]
  },
  {
   "cell_type": "code",
   "execution_count": 32,
   "id": "8accd817-3a54-4f0b-9625-d7d74a5fdd30",
   "metadata": {},
   "outputs": [
    {
     "data": {
      "text/plain": [
       "{'image1': ['man riding a motor bike on a dirt road']}"
      ]
     },
     "execution_count": 32,
     "metadata": {},
     "output_type": "execute_result"
    }
   ],
   "source": [
    "formatted_reference_captions"
   ]
  },
  {
   "cell_type": "code",
   "execution_count": null,
   "id": "1687ad1e-d45f-42ed-a12f-4ff420a01113",
   "metadata": {},
   "outputs": [],
   "source": []
  }
 ],
 "metadata": {
  "kernelspec": {
   "display_name": "Python 3 (ipykernel)",
   "language": "python",
   "name": "python3"
  },
  "language_info": {
   "codemirror_mode": {
    "name": "ipython",
    "version": 3
   },
   "file_extension": ".py",
   "mimetype": "text/x-python",
   "name": "python",
   "nbconvert_exporter": "python",
   "pygments_lexer": "ipython3",
   "version": "3.9.7"
  }
 },
 "nbformat": 4,
 "nbformat_minor": 5
}
