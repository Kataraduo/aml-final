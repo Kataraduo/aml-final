{
 "cells": [
  {
   "cell_type": "code",
   "execution_count": 1,
   "id": "6456bf37-ded5-4b91-a326-5968e005f7ca",
   "metadata": {},
   "outputs": [
    {
     "ename": "ModuleNotFoundError",
     "evalue": "No module named 'keras.layers.merge'",
     "output_type": "error",
     "traceback": [
      "\u001b[0;31m---------------------------------------------------------------------------\u001b[0m",
      "\u001b[0;31mModuleNotFoundError\u001b[0m                       Traceback (most recent call last)",
      "\u001b[0;32m<ipython-input-1-21d7b8805b66>\u001b[0m in \u001b[0;36m<module>\u001b[0;34m\u001b[0m\n\u001b[1;32m     13\u001b[0m \u001b[0;32mfrom\u001b[0m \u001b[0mkeras\u001b[0m\u001b[0;34m.\u001b[0m\u001b[0mpreprocessing\u001b[0m\u001b[0;34m.\u001b[0m\u001b[0msequence\u001b[0m \u001b[0;32mimport\u001b[0m \u001b[0mpad_sequences\u001b[0m\u001b[0;34m\u001b[0m\u001b[0;34m\u001b[0m\u001b[0m\n\u001b[1;32m     14\u001b[0m \u001b[0;32mfrom\u001b[0m \u001b[0mtensorflow\u001b[0m\u001b[0;34m.\u001b[0m\u001b[0mkeras\u001b[0m\u001b[0;34m.\u001b[0m\u001b[0mutils\u001b[0m \u001b[0;32mimport\u001b[0m \u001b[0mto_categorical\u001b[0m\u001b[0;34m\u001b[0m\u001b[0;34m\u001b[0m\u001b[0m\n\u001b[0;32m---> 15\u001b[0;31m \u001b[0;32mfrom\u001b[0m \u001b[0mkeras\u001b[0m\u001b[0;34m.\u001b[0m\u001b[0mlayers\u001b[0m\u001b[0;34m.\u001b[0m\u001b[0mmerge\u001b[0m \u001b[0;32mimport\u001b[0m \u001b[0madd\u001b[0m\u001b[0;34m\u001b[0m\u001b[0;34m\u001b[0m\u001b[0m\n\u001b[0m\u001b[1;32m     16\u001b[0m \u001b[0;32mfrom\u001b[0m \u001b[0mkeras\u001b[0m\u001b[0;34m.\u001b[0m\u001b[0mmodels\u001b[0m \u001b[0;32mimport\u001b[0m \u001b[0mModel\u001b[0m\u001b[0;34m,\u001b[0m \u001b[0mload_model\u001b[0m\u001b[0;34m\u001b[0m\u001b[0;34m\u001b[0m\u001b[0m\n\u001b[1;32m     17\u001b[0m \u001b[0;32mfrom\u001b[0m \u001b[0mkeras\u001b[0m\u001b[0;34m.\u001b[0m\u001b[0mlayers\u001b[0m \u001b[0;32mimport\u001b[0m \u001b[0mInput\u001b[0m\u001b[0;34m,\u001b[0m \u001b[0mDense\u001b[0m\u001b[0;34m,\u001b[0m \u001b[0mLSTM\u001b[0m\u001b[0;34m,\u001b[0m \u001b[0mEmbedding\u001b[0m\u001b[0;34m,\u001b[0m \u001b[0mDropout\u001b[0m\u001b[0;34m\u001b[0m\u001b[0;34m\u001b[0m\u001b[0m\n",
      "\u001b[0;31mModuleNotFoundError\u001b[0m: No module named 'keras.layers.merge'"
     ]
    }
   ],
   "source": [
    "import string\n",
    "import numpy as np\n",
    "from PIL import Image\n",
    "import os\n",
    "from pickle import dump, load\n",
    "import numpy as np\n",
    "import random\n",
    "import json\n",
    "\n",
    "from keras.applications.xception import Xception, preprocess_input\n",
    "from keras.preprocessing.image import load_img, img_to_array\n",
    "from keras.preprocessing.text import Tokenizer\n",
    "from keras.preprocessing.sequence import pad_sequences\n",
    "from tensorflow.keras.utils import to_categorical\n",
    "from keras.layers.merge import add\n",
    "from keras.models import Model, load_model\n",
    "from keras.layers import Input, Dense, LSTM, Embedding, Dropout\n",
    "\n",
    "# small library for seeing the progress of loops.\n",
    "from tqdm import tqdm_notebook as tqdm\n",
    "tqdm().pandas()\n",
    "\n",
    "# Ignore warnings\n",
    "import warnings\n",
    "warnings.filterwarnings(\"ignore\")\n"
   ]
  },
  {
   "cell_type": "code",
   "execution_count": 4,
   "id": "1c993209-0130-4c02-b585-f5afaca1714e",
   "metadata": {},
   "outputs": [],
   "source": [
    "DATASET_RAW = \"../datasets/flickr/raw\"\n",
    "DATASET_INTERIM = \"../datasets/flickr/interim\"\n",
    "CHECKPOINTS = \"../checkpoints/flickr\"\n",
    "OUTPUTS = \"../outputs/baseline\"\n"
   ]
  },
  {
   "cell_type": "markdown",
   "id": "97d0cd40-d8d3-425a-b7ce-b262d3e5d1d3",
   "metadata": {},
   "source": [
    "## Load & clean captions"
   ]
  },
  {
   "cell_type": "code",
   "execution_count": 5,
   "id": "de0e1c05-28b2-4565-a983-69e75841cc18",
   "metadata": {},
   "outputs": [
    {
     "name": "stdout",
     "output_type": "stream",
     "text": [
      "Number of captions: \t8091\n"
     ]
    }
   ],
   "source": [
    "def clean_caption(caption, table):\n",
    "    caption.replace(\"-\", \" \")    # Replace \"-\" with \" \"\n",
    "    words = caption.split()      # Split the words\n",
    "\n",
    "    words = [word.lower() for word in words]    # Convert to lowercase\n",
    "    words = [word.translate(table) for word in words]  # Remove punctuations\n",
    "    words = [word for word in words if(len(word)>1)]   # Remove 's and a\n",
    "    words = [word for word in words if(word.isalpha())] # Remove tokens with numbers\n",
    "\n",
    "    return f\"<start>{' '.join(words)}<end>\"\n",
    "\n",
    "\n",
    "def load_captions(filename):\n",
    "    # Load the text file into memory\n",
    "    file = open(filename, 'r')\n",
    "    text = file.read()\n",
    "    file.close()\n",
    "    table = str.maketrans('', '', string.punctuation)\n",
    "\n",
    "    img_captions = dict()\n",
    "\n",
    "    lines = text.split('\\n')\n",
    "    for line in lines[1:]:\n",
    "        if len(line) == 0:\n",
    "            continue\n",
    "        img, caption = line.split(',', 1)\n",
    "        # Clean the caption text\n",
    "        caption = clean_caption(caption, table)\n",
    "        if img in img_captions:\n",
    "            img_captions[img].append(caption)\n",
    "        else:\n",
    "            img_captions[img] = [caption]\n",
    "\n",
    "    return img_captions\n",
    "\n",
    "\n",
    "img_captions = load_captions(os.path.join(DATASET_RAW, 'captions.txt'))\n",
    "print(f\"Number of captions: \\t{len(img_captions)}\")\n"
   ]
  },
  {
   "cell_type": "code",
   "execution_count": 4,
   "id": "30a8a318-8c55-4244-8fe6-f7e5bf86c322",
   "metadata": {},
   "outputs": [],
   "source": [
    "# # Save the cleaned captions to interim dir\n",
    "# with open(os.path.join(DATASET_INTERIM, 'captions.json'), 'w') as file:\n",
    "#     json.dump(img_captions, file)\n"
   ]
  },
  {
   "cell_type": "code",
   "execution_count": 5,
   "id": "5113795d-9f4a-4a37-8842-d3100c9344d9",
   "metadata": {},
   "outputs": [],
   "source": [
    "with open(os.path.join(DATASET_INTERIM, 'captions.json'), 'rb') as file:\n",
    "    img_captions = json.load(file)\n"
   ]
  },
  {
   "cell_type": "markdown",
   "id": "5e368b52-345a-493a-afad-5ed9561e7197",
   "metadata": {},
   "source": [
    "## Extracting the features from images "
   ]
  },
  {
   "cell_type": "code",
   "execution_count": 6,
   "id": "0d071a6b-a405-4918-aeaa-51826ac89feb",
   "metadata": {
    "tags": []
   },
   "outputs": [],
   "source": [
    "def extract_img_features(directory):\n",
    "    model = Xception(include_top=False, pooling='avg')\n",
    "    features = {}\n",
    "    for img in tqdm(os.listdir(directory)):\n",
    "        filename = directory + \"/\" + img\n",
    "        image = Image.open(filename)\n",
    "        image = image.resize((299,299))\n",
    "        image = np.expand_dims(image, axis=0)\n",
    "        image = image/127.5\n",
    "        image = image - 1.0\n",
    "\n",
    "        feature = model.predict(image)\n",
    "        features[img] = feature\n",
    "    return features\n",
    "\n",
    "# img_features = extract_img_features(os.path.join(DATASET_RAW, 'Images'))\n",
    "\n",
    "# # Save the extracted image features to interim dir\n",
    "# dump(img_features, open(os.path.join(DATASET_INTERIM, 'img_features.pkl'), 'wb'))\n"
   ]
  },
  {
   "cell_type": "code",
   "execution_count": 7,
   "id": "e771dc3c-dcb7-456d-a9fe-1cf70082a7c7",
   "metadata": {},
   "outputs": [
    {
     "name": "stdout",
     "output_type": "stream",
     "text": [
      "# of images: 8091\n",
      "Dimension of an image feature (1, 2048)\n"
     ]
    }
   ],
   "source": [
    "img_features = load(open(os.path.join(DATASET_INTERIM, 'img_features.pkl'),\"rb\"))\n",
    "\n",
    "print(f\"# of images: {len(img_features)}\")\n",
    "print(f\"Dimension of an image feature {img_features[list(img_features.keys())[0]].shape}\")\n"
   ]
  },
  {
   "cell_type": "markdown",
   "id": "245092ca-3d43-45ed-84b3-ccf69b39b738",
   "metadata": {},
   "source": [
    "## Split the training/dev/test set"
   ]
  },
  {
   "cell_type": "code",
   "execution_count": 8,
   "id": "70d49120-5277-468b-81d5-3fd8f14d0ba4",
   "metadata": {},
   "outputs": [
    {
     "name": "stdout",
     "output_type": "stream",
     "text": [
      "train: 6000 | dev: 1000 | test: 1091\n"
     ]
    }
   ],
   "source": [
    "img_files = list(img_captions.keys())\n",
    "\n",
    "assert len(img_files) > 7000, \"The list must have more than 7000 elements.\"\n",
    "\n",
    "# Shuffle the list in place\n",
    "random.shuffle(img_files)\n",
    "\n",
    "# Split into training, dev, and test datasets\n",
    "train_imgs = img_files[:6000]\n",
    "dev_imgs = img_files[6000:7000]\n",
    "test_imgs = img_files[7000:]  # The remaining part of the list\n",
    "\n",
    "dataset = {\n",
    "    \"train\": train_imgs,\n",
    "    \"dev\": dev_imgs,\n",
    "    \"test\": test_imgs\n",
    "}\n",
    "\n",
    "print(f\"train: {len(train_imgs)} | dev: {len(dev_imgs)} | test: {len(test_imgs)}\")\n"
   ]
  },
  {
   "cell_type": "code",
   "execution_count": 9,
   "id": "50da4035-9210-4b5e-a62d-e17f9d39eb66",
   "metadata": {},
   "outputs": [],
   "source": [
    "# # Save the dataset keys into interim dir\n",
    "# with open(os.path.join(DATASET_INTERIM, 'dataset_keys.json'), 'w') as file:\n",
    "#     json.dump(dataset, file)\n"
   ]
  },
  {
   "cell_type": "code",
   "execution_count": 10,
   "id": "8d722219-3aa9-4d50-aa3b-f90d106166eb",
   "metadata": {},
   "outputs": [],
   "source": [
    "def get_captions(img_captions, mode, dataset):\n",
    "    \"\"\"\n",
    "    Generate an img-captions dictionary with images in a specific dataset\n",
    "\n",
    "    Return:\n",
    "        A dictionary (img filename: <start> caption <end>\n",
    "    \"\"\"\n",
    "    captions = dict()\n",
    "    for img_name in img_captions:\n",
    "        if img_name in dataset[mode]:\n",
    "            captions[img_name] = img_captions[img_name]\n",
    "\n",
    "    return captions\n",
    "\n",
    "\n",
    "def get_img_features(img_features, mode, dataset):\n",
    "    \"\"\"\n",
    "    Get the extracted features for images in a specific dataset\n",
    "\n",
    "    Return:\n",
    "        A dictionary (img filename: <start> caption <end>\n",
    "    \"\"\"\n",
    "    features = dict()\n",
    "    for img_name in img_features:\n",
    "        if img_name in dataset[mode]:\n",
    "            features[img_name] = img_features[img_name]\n",
    "\n",
    "    return features\n"
   ]
  },
  {
   "cell_type": "code",
   "execution_count": 11,
   "id": "3380618a-b488-496a-9450-69335bdb37cd",
   "metadata": {},
   "outputs": [],
   "source": [
    "all_captions = img_captions\n",
    "all_img_features = img_features\n",
    "\n",
    "train_captions = get_captions(img_captions, \"train\", dataset)\n",
    "train_img_features = get_img_features(img_features, \"train\", dataset)\n",
    "\n",
    "dev_captions = get_captions(img_captions, \"dev\", dataset)\n",
    "dev_img_features = get_img_features(img_features, \"dev\", dataset)\n",
    "\n",
    "test_captions = get_captions(img_captions, \"test\", dataset)\n",
    "test_img_features = get_img_features(img_features, \"test\", dataset)\n"
   ]
  },
  {
   "cell_type": "code",
   "execution_count": 12,
   "id": "d5461ac0-0119-45f1-9262-6bbbff35657a",
   "metadata": {},
   "outputs": [
    {
     "name": "stdout",
     "output_type": "stream",
     "text": [
      "8091 6000 1000 1091\n",
      "8091 6000 1000 1091\n"
     ]
    }
   ],
   "source": [
    "print(len(all_captions), len(train_captions), len(dev_captions), len(test_captions))\n",
    "print(len(all_img_features), len(train_img_features), len(dev_img_features), len(test_img_features))\n"
   ]
  },
  {
   "cell_type": "markdown",
   "id": "59a9817c-19f0-4717-afb4-f40ad3cebead",
   "metadata": {},
   "source": [
    "## Create tokenizer from the captions in the training set"
   ]
  },
  {
   "cell_type": "code",
   "execution_count": 13,
   "id": "081df910-407b-4f27-a236-e7ff9bd7f588",
   "metadata": {},
   "outputs": [
    {
     "name": "stdout",
     "output_type": "stream",
     "text": [
      "Size of vocab = 7649\n"
     ]
    }
   ],
   "source": [
    "def dict_to_list(captions):\n",
    "    all_caption = []\n",
    "    for key in captions:\n",
    "        [all_caption.append(caption) for caption in captions[key]]\n",
    "    return all_caption\n",
    "\n",
    "\n",
    "def create_tokenizer(captions):\n",
    "    tokenizer = Tokenizer()\n",
    "    tokenizer.fit_on_texts(dict_to_list(captions))\n",
    "    return tokenizer\n",
    "\n",
    "\n",
    "tokenizer = create_tokenizer(train_captions)\n",
    "\n",
    "vocab_size = len(tokenizer.word_index) + 1\n",
    "print(f\"Size of vocab = {vocab_size}\")\n"
   ]
  },
  {
   "cell_type": "code",
   "execution_count": 14,
   "id": "33c2e41b-9e47-43e6-8f4f-908fc5ec0cf0",
   "metadata": {},
   "outputs": [],
   "source": [
    "# # Save the tokenize to hard drive\n",
    "# dump(tokenizer, open(os.path.join(DATASET_INTERIM, 'tokenizer.pkl'), 'wb'))\n"
   ]
  },
  {
   "cell_type": "code",
   "execution_count": 15,
   "id": "0865feb9-88f7-4417-9b13-e57dc4f11736",
   "metadata": {},
   "outputs": [
    {
     "data": {
      "text/plain": [
       "32"
      ]
     },
     "execution_count": 15,
     "metadata": {},
     "output_type": "execute_result"
    }
   ],
   "source": [
    "def max_length(captions):\n",
    "    desc_list = dict_to_list(captions)\n",
    "    return max(len(d.split()) for d in desc_list)\n",
    "\n",
    "max_length = max_length(img_captions)\n",
    "max_length\n"
   ]
  },
  {
   "cell_type": "markdown",
   "id": "57b0cd2c-c6f5-4466-aeeb-aca4e0913b2f",
   "metadata": {},
   "source": [
    "## Model & Data Generator"
   ]
  },
  {
   "cell_type": "code",
   "execution_count": 16,
   "id": "ec6aa95b-bac6-4232-a6fd-bd5e01e85ad3",
   "metadata": {},
   "outputs": [
    {
     "data": {
      "text/plain": [
       "((47, 2048), (47, 32), (47, 7649))"
      ]
     },
     "execution_count": 16,
     "metadata": {},
     "output_type": "execute_result"
    }
   ],
   "source": [
    "# create input-output sequence pairs from the image description.\n",
    "\n",
    "# data generator, used by model.fit_generator()\n",
    "def data_generator(descriptions, features, tokenizer, max_length=32):\n",
    "    while True:\n",
    "        for key, description_list in descriptions.items():\n",
    "            feature = features[key][0]\n",
    "            input_image, input_sequence, output_word = create_sequences(tokenizer, max_length, description_list, feature)\n",
    "            yield [input_image, input_sequence], output_word\n",
    "\n",
    "\n",
    "def create_sequences(tokenizer, max_length, desc_list, feature):\n",
    "    X1, X2, y = list(), list(), list()\n",
    "    # walk through each description for the image\n",
    "    for desc in desc_list:\n",
    "        # encode the sequence\n",
    "        seq = tokenizer.texts_to_sequences([desc])[0]\n",
    "        # split one sequence into multiple X,y pairs\n",
    "        for i in range(1, len(seq)):\n",
    "            # split into input and output pair\n",
    "            in_seq, out_seq = seq[:i], seq[i]\n",
    "            # pad input sequence\n",
    "            in_seq = pad_sequences([in_seq], maxlen=max_length)[0]\n",
    "            # encode output sequence\n",
    "            out_seq = to_categorical([out_seq], num_classes=vocab_size)[0]\n",
    "            # store\n",
    "            X1.append(feature)\n",
    "            X2.append(in_seq)\n",
    "            y.append(out_seq)\n",
    "    return np.array(X1), np.array(X2), np.array(y)\n",
    "\n",
    "# You can check the shape of the input and output for your model\n",
    "[a, b], c = next(data_generator(train_captions, train_img_features, tokenizer, max_length))\n",
    "a.shape, b.shape, c.shape\n"
   ]
  },
  {
   "cell_type": "code",
   "execution_count": 17,
   "id": "d74f9c8a-d786-4eae-afb8-8e409f63b376",
   "metadata": {},
   "outputs": [],
   "source": [
    "# from keras.utils import plot_model\n",
    "import tensorflow as tf\n",
    "\n",
    "def define_model(vocab_size, max_length):\n",
    "\n",
    "    # features from the CNN model squeezed from 2048 to 256 nodes\n",
    "    inputs1 = Input(shape=(2048,))\n",
    "    fe1 = Dropout(0.5)(inputs1)\n",
    "    fe2 = Dense(256, activation='relu')(fe1)\n",
    "\n",
    "    # LSTM sequence model\n",
    "    inputs2 = Input(shape=(max_length,))\n",
    "    se1 = Embedding(vocab_size, 256, mask_zero=True)(inputs2)\n",
    "    se2 = Dropout(0.5)(se1)\n",
    "    se3 = LSTM(256)(se2)\n",
    "\n",
    "    # Merging both models\n",
    "    decoder1 = add([fe2, se3])\n",
    "    decoder2 = Dense(256, activation='relu')(decoder1)\n",
    "    outputs = Dense(vocab_size, activation='softmax')(decoder2)\n",
    "\n",
    "    # tie it together [image, seq] [word]\n",
    "    model = Model(inputs=[inputs1, inputs2], outputs=outputs)\n",
    "    model.compile(loss='categorical_crossentropy', optimizer='adam')\n",
    "\n",
    "    # summarize model\n",
    "    # print(model.summary())\n",
    "    tf.keras.utils.plot_model(model, to_file='model.png', show_shapes=True)\n",
    "\n",
    "    return model\n"
   ]
  },
  {
   "cell_type": "code",
   "execution_count": 18,
   "id": "b85c6efa-eb61-4c29-aae9-9ede51599dea",
   "metadata": {},
   "outputs": [
    {
     "name": "stderr",
     "output_type": "stream",
     "text": [
      "2023-11-07 22:17:44.209920: I tensorflow/stream_executor/cuda/cuda_gpu_executor.cc:937] successful NUMA node read from SysFS had negative value (-1), but there must be at least one NUMA node, so returning NUMA node zero\n",
      "2023-11-07 22:17:44.227967: I tensorflow/stream_executor/cuda/cuda_gpu_executor.cc:937] successful NUMA node read from SysFS had negative value (-1), but there must be at least one NUMA node, so returning NUMA node zero\n",
      "2023-11-07 22:17:44.228856: I tensorflow/stream_executor/cuda/cuda_gpu_executor.cc:937] successful NUMA node read from SysFS had negative value (-1), but there must be at least one NUMA node, so returning NUMA node zero\n",
      "2023-11-07 22:17:44.230644: I tensorflow/core/platform/cpu_feature_guard.cc:142] This TensorFlow binary is optimized with oneAPI Deep Neural Network Library (oneDNN) to use the following CPU instructions in performance-critical operations:  SSE4.1 SSE4.2 AVX AVX2 FMA\n",
      "To enable them in other operations, rebuild TensorFlow with the appropriate compiler flags.\n",
      "2023-11-07 22:17:44.239392: I tensorflow/stream_executor/cuda/cuda_gpu_executor.cc:937] successful NUMA node read from SysFS had negative value (-1), but there must be at least one NUMA node, so returning NUMA node zero\n",
      "2023-11-07 22:17:44.240334: I tensorflow/stream_executor/cuda/cuda_gpu_executor.cc:937] successful NUMA node read from SysFS had negative value (-1), but there must be at least one NUMA node, so returning NUMA node zero\n",
      "2023-11-07 22:17:44.241170: I tensorflow/stream_executor/cuda/cuda_gpu_executor.cc:937] successful NUMA node read from SysFS had negative value (-1), but there must be at least one NUMA node, so returning NUMA node zero\n",
      "2023-11-07 22:17:46.320082: I tensorflow/stream_executor/cuda/cuda_gpu_executor.cc:937] successful NUMA node read from SysFS had negative value (-1), but there must be at least one NUMA node, so returning NUMA node zero\n",
      "2023-11-07 22:17:46.326399: I tensorflow/stream_executor/cuda/cuda_gpu_executor.cc:937] successful NUMA node read from SysFS had negative value (-1), but there must be at least one NUMA node, so returning NUMA node zero\n",
      "2023-11-07 22:17:46.333701: I tensorflow/stream_executor/cuda/cuda_gpu_executor.cc:937] successful NUMA node read from SysFS had negative value (-1), but there must be at least one NUMA node, so returning NUMA node zero\n",
      "2023-11-07 22:17:46.338278: I tensorflow/core/common_runtime/gpu/gpu_device.cc:1510] Created device /job:localhost/replica:0/task:0/device:GPU:0 with 9352 MB memory:  -> device: 0, name: GeForce RTX 2080 Ti, pci bus id: 0000:00:00.0, compute capability: 7.5\n"
     ]
    },
    {
     "name": "stdout",
     "output_type": "stream",
     "text": [
      "('You must install pydot (`pip install pydot`) and install graphviz (see instructions at https://graphviz.gitlab.io/download/) ', 'for plot_model/model_to_dot to work.')\n"
     ]
    }
   ],
   "source": [
    "model = define_model(vocab_size, max_length)\n"
   ]
  },
  {
   "cell_type": "code",
   "execution_count": 19,
   "id": "a9dd170b-3b89-469a-b2a3-1ad5a3b37159",
   "metadata": {},
   "outputs": [
    {
     "name": "stdout",
     "output_type": "stream",
     "text": [
      "Dataset:  6000\n",
      "Descriptions: train = 6000\n",
      "Photos: train = 6000\n",
      "Vocabulary Size: 7649\n",
      "Description Length:  32\n"
     ]
    }
   ],
   "source": [
    "# train our model\n",
    "print('Dataset: ', len(train_imgs))\n",
    "print('Descriptions: train =', len(train_captions))\n",
    "print('Photos: train =', len(train_img_features))\n",
    "print('Vocabulary Size:', vocab_size)\n",
    "print('Description Length: ', max_length)\n",
    "\n",
    "# model = define_model(vocab_size, max_length)\n",
    "# epochs = 10\n",
    "# steps = len(train_captions)\n",
    "# # making a directory models to save our models\n",
    "# for i in range(epochs):\n",
    "#     generator = data_generator(train_captions, train_img_features, tokenizer, max_length)\n",
    "#     model.fit(x=generator, epochs=1, steps_per_epoch=steps, verbose=1)\n",
    "#     model.save(os.path.join(CHECKPOINTS, f\"/model_{str(i)}.h5\"))\n"
   ]
  },
  {
   "cell_type": "markdown",
   "id": "b6ca5d18-0195-4cc3-818b-e1c7591c6171",
   "metadata": {},
   "source": [
    "## Test the model"
   ]
  },
  {
   "cell_type": "code",
   "execution_count": 177,
   "id": "b4bd7bb3-0669-4944-8e5b-defc8b3e003e",
   "metadata": {},
   "outputs": [],
   "source": [
    "import numpy as np\n",
    "from PIL import Image\n",
    "import matplotlib.pyplot as plt\n",
    "\n",
    "\n",
    "class CaptionGenerator:\n",
    "    def __init__(self, caption_gen_model, feature_extraction_model, tokenizer, dataset_keys, max_length=32, extracted_features=None):\n",
    "        self.caption_gen_model = caption_gen_model\n",
    "        self.feature_extraction_model = feature_extraction_model\n",
    "        self.tokenizer = tokenizer\n",
    "        self.datasets = dataset_keys\n",
    "        self.max_length = max_length\n",
    "        self.extracted_features = extracted_features\n",
    "\n",
    "    def extract_img_features(self, filename):\n",
    "        try:\n",
    "            image = Image.open(filename)\n",
    "        except Exception as e:\n",
    "            print(e)\n",
    "            print(f\"ERROR: Couldn't open image at {filename}\")\n",
    "            return\n",
    "        image = image.resize((299, 299))\n",
    "        image = np.array(image)\n",
    "        # for images that has 4 channels, we convert them into 3 channels\n",
    "        if image.shape[2] == 4:\n",
    "            image = image[..., :3]\n",
    "        image = np.expand_dims(image, axis=0)\n",
    "        image = image/127.5\n",
    "        image = image - 1.0\n",
    "        feature = self.feature_extraction_model.predict(image)\n",
    "        return feature\n",
    "\n",
    "    def generate_caption(self, img_idx):\n",
    "        if img_idx >= len(self.datasets):\n",
    "            print(f\"Couldn't find {img_idx} in the dataset\")\n",
    "            return\n",
    "\n",
    "        img_path = os.path.join(DATASET_RAW, 'Images', self.datasets[img_idx])\n",
    "\n",
    "        if self.extracted_features is None or img_idx not in self.extracted_features:\n",
    "            img_feature = self.extract_img_features(img_path)\n",
    "        else:\n",
    "            img_feature = self.extracted_features[self.datasets[img_idx]]\n",
    "\n",
    "        in_text = 'start'\n",
    "        caption = []\n",
    "        for _ in range(self.max_length):\n",
    "            sequence = self.tokenizer.texts_to_sequences([in_text])[0]\n",
    "            sequence = pad_sequences([sequence], maxlen=self.max_length)\n",
    "            # Infer the next word\n",
    "            pred = self.caption_gen_model.predict([img_feature, sequence], verbose=0)\n",
    "            pred = np.argmax(pred)\n",
    "            # Get the word from the tokenizer\n",
    "            word = self.word_for_id(pred)\n",
    "            if word is None:\n",
    "                break\n",
    "            caption.append(word)\n",
    "            in_text += ' ' + word\n",
    "            if word == 'end':\n",
    "                break\n",
    "        generated_caption = ' '.join(caption[:-1])\n",
    "\n",
    "        return generated_caption, img_path\n",
    "\n",
    "    def generate_caption_and_show(self, img_idx):\n",
    "        generated_caption, img_path = self.generate_caption(img_idx)\n",
    "        print(generated_caption)\n",
    "        img = Image.open(img_path)\n",
    "        plt.imshow(img)\n",
    "\n",
    "    def word_for_id(self, integer):\n",
    "        for word, index in self.tokenizer.word_index.items():\n",
    "            if index == integer:\n",
    "                return word\n",
    "        return None\n"
   ]
  },
  {
   "cell_type": "code",
   "execution_count": 103,
   "id": "7604efe1-23fe-455f-8565-4c44ee927a3b",
   "metadata": {},
   "outputs": [],
   "source": [
    "# Load the image and generate the caption\n",
    "dataset_keys = json.load(\n",
    "    open(os.path.join(DATASET_INTERIM, \"dataset_keys.json\"), \"rb\")\n",
    ")\n",
    "\n",
    "# Load the model and tokenizer\n",
    "max_length = 32\n",
    "tokenizer = load(\n",
    "    open(os.path.join(DATASET_INTERIM, \"tokenizer.pkl\"), \"rb\")\n",
    ")\n",
    "model = load_model(os.path.join(CHECKPOINTS, 'baseline_9.h5'))\n",
    "xception_model = Xception(include_top=False, pooling=\"avg\")\n"
   ]
  },
  {
   "cell_type": "code",
   "execution_count": null,
   "id": "4ea85ddc-41d9-4a24-86c0-566ce68771a4",
   "metadata": {},
   "outputs": [],
   "source": [
    "dataset_keys['test']\n"
   ]
  },
  {
   "cell_type": "code",
   "execution_count": 180,
   "id": "cbb35db1-4201-4078-b61e-f16dda3fda40",
   "metadata": {},
   "outputs": [],
   "source": [
    "test_generator = CaptionGenerator(model, xception_model, tokenizer, dataset_keys['test'], 32, all_img_features)\n"
   ]
  },
  {
   "cell_type": "code",
   "execution_count": 186,
   "id": "25e11492-4bdc-4ca6-970e-a6f2167de7ec",
   "metadata": {},
   "outputs": [
    {
     "data": {
      "text/plain": [
       "'2502354602_f4d6dcf42d.jpg'"
      ]
     },
     "execution_count": 186,
     "metadata": {},
     "output_type": "execute_result"
    }
   ],
   "source": [
    "dataset_keys['test'][3]\n"
   ]
  },
  {
   "cell_type": "code",
   "execution_count": 185,
   "id": "4f23b1fe-632c-435f-9487-d2e1749451b5",
   "metadata": {},
   "outputs": [
    {
     "data": {
      "text/plain": [
       "False"
      ]
     },
     "execution_count": 185,
     "metadata": {},
     "output_type": "execute_result"
    }
   ],
   "source": [
    "'369047365_35476becc9.jpg' in dataset_keys['test']\n"
   ]
  },
  {
   "cell_type": "code",
   "execution_count": 201,
   "id": "592089e4-181a-4004-a273-17968e501835",
   "metadata": {},
   "outputs": [
    {
     "name": "stdout",
     "output_type": "stream",
     "text": [
      "3477715432_79d82487bb.jpg\n",
      "one girl wearing pajamas stands near to girl who is holding flyer\n",
      "two girls are playing with sparklers\n"
     ]
    },
    {
     "data": {
      "image/png": "[encoded data removed]",
      "text/plain": [
       "<Figure size 432x288 with 1 Axes>"
      ]
     },
     "metadata": {
      "needs_background": "light"
     },
     "output_type": "display_data"
    }
   ],
   "source": [
    "img_idx = 770\n",
    "\n",
    "img_filename = dataset_keys['test'][img_idx]\n",
    "\n",
    "print(img_filename)\n",
    "gt = all_captions[img_filename][0][7:-5]\n",
    "print(gt)\n",
    "test_generator.generate_caption_and_show(img_idx)\n"
   ]
  },
  {
   "cell_type": "code",
   "execution_count": 173,
   "id": "e74fd14a-7ac4-49f7-83b3-711b6aff16d9",
   "metadata": {},
   "outputs": [
    {
     "data": {
      "text/plain": [
       "'3029715635_43ab414dfb.jpg'"
      ]
     },
     "execution_count": 173,
     "metadata": {},
     "output_type": "execute_result"
    }
   ],
   "source": [
    "img_filename\n"
   ]
  },
  {
   "cell_type": "code",
   "execution_count": 134,
   "id": "dc010492-810e-4a91-9222-0df9f3ae4571",
   "metadata": {},
   "outputs": [],
   "source": [
    "import time\n",
    "\n",
    "\n",
    "def generate_caption_for_all_dataset(dataset):\n",
    "    # Load the image and generate the caption\n",
    "    dataset_keys = json.load(\n",
    "        open(os.path.join(DATASET_INTERIM, \"dataset_keys.json\"), \"rb\")\n",
    "    )\n",
    "\n",
    "    # Load the model and tokenizer\n",
    "    max_length = 32\n",
    "    tokenizer = load(\n",
    "        open(os.path.join(DATASET_INTERIM, \"tokenizer.pkl\"), \"rb\")\n",
    "    )\n",
    "    model = load_model(os.path.join(CHECKPOINTS, 'baseline_9.h5'))\n",
    "    xception_model = Xception(include_top=False, pooling=\"avg\")\n",
    "\n",
    "    generator = CaptionGenerator(model, xception_model, tokenizer, dataset)\n",
    "\n",
    "    results = {}\n",
    "    infer_times = []\n",
    "    for img_idx in range(0, len(dataset), 20):\n",
    "        start_time = time.time()\n",
    "        enerated_caption, img_path = generator.generate_caption(img_idx)\n",
    "        results[dataset[img_idx]] = enerated_caption\n",
    "        end_time = time.time()\n",
    "        infer_time = end_time - start_time\n",
    "        infer_times.append(infer_time)\n",
    "\n",
    "        print(f\"{img_idx}: \\t{enerated_caption}\")\n",
    "\n",
    "    average_infer_time = sum(infer_times) / len(infer_times)\n",
    "    print(f\"Average time for each inference: {average_infer_time:.2f} seconds\")\n",
    "\n",
    "    return results\n"
   ]
  },
  {
   "cell_type": "code",
   "execution_count": 135,
   "id": "5662a698-81c8-4a53-980b-2a0851ef0f27",
   "metadata": {},
   "outputs": [
    {
     "name": "stdout",
     "output_type": "stream",
     "text": [
      "0: \tman in black shirt and hat is riding unicycle on street\n",
      "20: \tman in red shorts is sitting on the edge of the water\n",
      "40: \tman in black shirt and black boots is walking down the street\n",
      "60: \tlittle girl in pink shirt is playing with water\n",
      "80: \tman in white shirt is playing tennis\n",
      "100: \tman in black shirt and black and white top is walking down the street\n",
      "120: \tman in black shirt is jumping on his skateboard\n",
      "140: \tman is climbing up rock\n",
      "160: \tman in red shirt is standing in front of an ambulance\n",
      "180: \tman in blue shirt is riding dirt bike\n",
      "200: \tman in black shirt is standing on the sidewalk with his arms outstretched\n",
      "220: \tman in black shirt is walking on the street\n",
      "240: \tman in black shirt is standing in front of the photographer\n",
      "260: \tblack dog is running through the grass\n",
      "280: \tman in black shirt is standing on the grass with his arms outstretched\n",
      "300: \tman in black shirt is standing in front of the camera\n",
      "320: \tgirl in pink shirt is sitting on the grass\n",
      "340: \tman in red and blue rides bike down dirt hill\n",
      "360: \tman in black shirt and sunglasses is sitting in front of the window of the corner of his head\n",
      "380: \tdog is running through the water\n",
      "400: \ttwo men are playing game in the street\n",
      "420: \tlittle girl in pink shirt is playing on the bed\n",
      "440: \tdog is running through the grass\n",
      "460: \ttwo boys are playing soccer on field\n",
      "480: \ttwo boys are playing soccer on field\n",
      "500: \ttwo people are sitting on the grass\n",
      "520: \ttwo girls are playing with sparklers\n",
      "540: \tdog is running through the snow\n",
      "560: \tgroup of people are standing on the ground with their bicycles in the background\n",
      "580: \tman in red helmet is riding bike down dirt hill\n",
      "600: \ttwo men are playing in the street\n",
      "620: \tblue race car is riding on horse\n",
      "640: \tboy in swimming trunks jumps into pool\n",
      "660: \tdog is running through the water\n",
      "680: \tman in red shirt is standing on bench with his dog\n",
      "700: \tman in black shirt and jeans is walking down the street\n",
      "720: \ttwo men are playing basketball\n",
      "740: \ttwo girls are sitting on the floor\n",
      "760: \tdog is running through the grass\n",
      "780: \tdog is running through the grass\n",
      "800: \tdog is running through the grass\n",
      "820: \ttwo girls are playing with swords in the grass\n",
      "840: \twar in race\n",
      "860: \tman in red helmet is riding bike down dirt hill\n",
      "880: \tman in red shirt is standing on top of cliff\n",
      "900: \tman is climbing up mountain\n",
      "920: \tlittle girl in pink shirt is standing on the edge of the water\n",
      "940: \tman in red shirt is standing on the edge of the water\n",
      "960: \tdog swims in the water\n",
      "980: \tman in black bathing suit is jumping into pool\n",
      "1000: \tman in red shirt is jumping on his bicycle\n",
      "1020: \tman in black shirt is standing on the sidewalk with his arms outstretched\n",
      "1040: \tman in black shirt and black boots is walking down the street\n",
      "1060: \ttwo men are playing in the sand\n",
      "1080: \tman in black shirt is standing in front of the camera\n",
      "Average time for each inference: 1.85 seconds\n"
     ]
    }
   ],
   "source": [
    "candidate_captions = generate_caption_for_all_dataset(dataset_keys['test'])\n"
   ]
  },
  {
   "cell_type": "code",
   "execution_count": 139,
   "id": "eb30a94a-58fc-47f0-b8b2-60d4a796f4a4",
   "metadata": {},
   "outputs": [],
   "source": [
    "with open(os.path.join(OUTPUTS, 'test_results.json'), 'w') as file:\n",
    "    json.dump(candidate_captions, file)\n"
   ]
  },
  {
   "cell_type": "code",
   "execution_count": 165,
   "id": "b55de2e0-356a-4523-a069-b08b51b9b50b",
   "metadata": {},
   "outputs": [
    {
     "data": {
      "text/plain": [
       "True"
      ]
     },
     "execution_count": 165,
     "metadata": {},
     "output_type": "execute_result"
    }
   ],
   "source": [
    "with open(os.path.join(OUTPUTS, 'test_results.json'), 'rb') as file:\n",
    "    candidate_captions = json.load(file)\n",
    "\n",
    "reference_captions = {}\n",
    "for filename in candidate_captions:\n",
    "    reference_captions[filename] = all_captions[filename][0][7:-5]\n",
    "\n",
    "len(reference_captions) == len(candidate_captions)\n"
   ]
  },
  {
   "cell_type": "code",
   "execution_count": 168,
   "id": "377effa8-2f65-4f20-a971-b7d09ba45820",
   "metadata": {},
   "outputs": [
    {
     "name": "stdout",
     "output_type": "stream",
     "text": [
      "NLTK BLEU Score:\n",
      "man in black shirt and hat is riding unicycle on street\n",
      "group of bohemians stroll down the street one with shopping cart\n",
      "\n",
      "man in red shorts is sitting on the edge of the water\n",
      "one man in the hole of tire in water and another man getting up from the water next to him\n",
      "\n",
      "man in black shirt and black boots is walking down the street\n",
      "girl in green walks down city street\n",
      "\n",
      "little girl in pink shirt is playing with water\n",
      "small girl wearing pink top and jeans stands on field with others in the background\n",
      "\n",
      "man in white shirt is playing tennis\n",
      "girl in black shirt and hot pink pants is about to hit tennis ball on the court\n",
      "\n",
      "man in black shirt and black and white top is walking down the street\n",
      "man is talking on cellphone outside of bar\n",
      "\n",
      "man in black shirt is jumping on his skateboard\n",
      "boy is outside jumping over flower bush on skateboard\n",
      "\n",
      "man is climbing up rock\n",
      "man climbing cliff face\n",
      "\n",
      "man in red shirt is standing in front of an ambulance\n",
      "man riding motorcycle down the sidewalk\n",
      "\n",
      "man in blue shirt is riding dirt bike\n",
      "line of bikers on busy street\n",
      "\n",
      "man in black shirt is standing on the sidewalk with his arms outstretched\n",
      "couple walking and holding hands\n",
      "\n",
      "man in black shirt is walking on the street\n",
      "boy skateboards and does jump over another skateboard\n",
      "\n",
      "man in black shirt is standing in front of the photographer\n",
      "few players show off their jousting skills in gym\n",
      "\n",
      "black dog is running through the grass\n",
      "big black dog chases big brown dog with green object in his mouth while another big brown dog tags behind\n",
      "\n",
      "man in black shirt is standing on the grass with his arms outstretched\n",
      "man is holding three things on fire in front of child playground\n",
      "\n",
      "man in black shirt is standing in front of the camera\n",
      "girl in firefighter uniform looks back and says something\n",
      "\n",
      "girl in pink shirt is sitting on the grass\n",
      "young couple kissing on park bench\n",
      "\n",
      "man in red and blue rides bike down dirt hill\n",
      "dirtbikers race on muddy track\n",
      "\n",
      "man in black shirt and sunglasses is sitting in front of the window of the corner of his head\n",
      "few people stand around the counter of an establishment\n",
      "\n",
      "dog is running through the water\n",
      "dog is walking through snow and figure is in the distance\n",
      "\n",
      "two men are playing game in the street\n",
      "dancing girl performs high kick in parade\n",
      "\n",
      "little girl in pink shirt is playing on the bed\n",
      "child sliding down orange slide\n",
      "\n",
      "dog is running through the grass\n",
      "dog in field\n",
      "\n",
      "two boys are playing soccer on field\n",
      "boys wearing hats play in soccer game\n",
      "\n",
      "two boys are playing soccer on field\n",
      "child in blue uniform kicks soccer ball\n",
      "\n",
      "two people are sitting on the grass\n",
      "dog is jumping through fiery obstacle\n",
      "\n",
      "two girls are playing with sparklers\n",
      "lady looks surprised\n",
      "\n",
      "dog is running through the snow\n",
      "black dog fighting with brown dog in the snow\n",
      "\n",
      "group of people are standing on the ground with their bicycles in the background\n",
      "group of people appear to be tilling the ground in from of couple of thatch roof huts\n",
      "\n",
      "man in red helmet is riding bike down dirt hill\n",
      "male bicyclist wearing blue helmet is out for ride in the outdoors\n",
      "\n",
      "two men are playing in the street\n",
      "four blackhaired girls in shorts are walking\n",
      "\n",
      "blue race car is riding on horse\n",
      "two automobiles race each other and pour smoke from behind\n",
      "\n",
      "boy in swimming trunks jumps into pool\n",
      "kid wearing life jacket in swimming pool\n",
      "\n",
      "dog is running through the water\n",
      "dog chases ball in water\n",
      "\n",
      "man in red shirt is standing on bench with his dog\n",
      "man holding sign with dog on leash\n",
      "\n",
      "man in black shirt and jeans is walking down the street\n",
      "elderly man in straw hat is sitting on bench\n",
      "\n",
      "two men are playing basketball\n",
      "an asian man in black tracksuit is watching students doing exercised on basketball court\n",
      "\n",
      "two girls are sitting on the floor\n",
      "girl wearing halter top eats cake at table\n",
      "\n",
      "dog is running through the grass\n",
      "big hound dog walking on log in the woods\n",
      "\n",
      "dog is running through the grass\n",
      "child throws something for white dog to catch\n",
      "\n",
      "dog is running through the grass\n",
      "light brown colored dog is playing ball with redish brown colored dog in fenced in area\n",
      "\n",
      "two girls are playing with swords in the grass\n",
      "girl with pink headband and blue shirt is drumming on blue plastic and metal bowls with chopsticks\n",
      "\n",
      "war in race\n",
      "cowboy in white outfit just got bucked off an angry bull\n",
      "\n",
      "man in red helmet is riding bike down dirt hill\n",
      "biker in red rides in the countryside\n",
      "\n",
      "man in red shirt is standing on top of cliff\n",
      "large tent with green cover at campground\n",
      "\n",
      "man is climbing up mountain\n",
      "person in black and red jacket walking up snowy mountain\n",
      "\n",
      "little girl in pink shirt is standing on the edge of the water\n",
      "little blonde girl splashing in mud puddle\n",
      "\n",
      "man in red shirt is standing on the edge of the water\n",
      "boy and girl are standing on the edge of lake at sunset\n",
      "\n",
      "dog swims in the water\n",
      "girl shakes her hair in swimming pool\n",
      "\n",
      "man in black bathing suit is jumping into pool\n",
      "boy wearing black and blue life vest is on green wooden boat looking out towards the water\n",
      "\n",
      "man in red shirt is jumping on his bicycle\n",
      "motocross rider rides in the air over bar\n",
      "\n",
      "man in black shirt is standing on the sidewalk with his arms outstretched\n",
      "ban in grey swaetshirt picks out greens in supermarket\n",
      "\n",
      "man in black shirt and black boots is walking down the street\n",
      "man in black hoodie watching man in red cap\n",
      "\n",
      "two men are playing in the sand\n",
      "boy and three girls in blue school uniforms walk down dirtcovered road\n",
      "\n",
      "man in black shirt is standing in front of the camera\n",
      "woman stands in front of display case and another woman looks at digital camera\n",
      "\n",
      "Average BLEU score: 0.0058\n",
      "\n",
      "NLTK METEOR Score:\n",
      "Average BLEU score: 0.1370\n"
     ]
    }
   ],
   "source": [
    "def measure_BLEU_METEOR(candidate_captions, reference_captions):\n",
    "    # NLTK BLEU Score\n",
    "    print(\"NLTK BLEU Score:\")\n",
    "    scores = []\n",
    "    for key in candidate_captions.keys():\n",
    "        # Note: the reference list of lists is expected here where each reference should be tokenized into words.\n",
    "        print(candidate_captions[key])\n",
    "        print(reference_captions[key])\n",
    "        print()\n",
    "        candidate_tokens = candidate_captions[key].split()\n",
    "        reference_tokens = [reference_captions[key].split()]\n",
    "        score = sentence_bleu(reference_tokens, candidate_tokens)\n",
    "        # print(reference_tokens)\n",
    "        # print(candidate_tokens)\n",
    "        scores.append(score)\n",
    "\n",
    "    average_score = sum(scores) / len(candidate_captions)\n",
    "    print(f\"Average BLEU score: {average_score:.4f}\")\n",
    "\n",
    "\n",
    "    # NLTK METEOR Score\n",
    "    print(\"\\nNLTK METEOR Score:\")\n",
    "    scores = []\n",
    "    for key in candidate_captions.keys():\n",
    "        # Note: the reference list of lists is expected here where each reference should be tokenized into words.\n",
    "        candidate_tokens = candidate_captions[key].split()\n",
    "        reference_tokens = [reference_captions[key].split()]\n",
    "        score = meteor_score(reference_tokens, candidate_tokens)\n",
    "        # print(reference_tokens)\n",
    "        # print(candidate_tokens)\n",
    "        scores.append(score)\n",
    "\n",
    "    average_score = sum(scores) / len(candidate_captions)\n",
    "    print(f\"Average BLEU score: {average_score:.4f}\")\n",
    "\n",
    "measure_BLEU_METEOR(candidate_captions, reference_captions)\n"
   ]
  },
  {
   "cell_type": "code",
   "execution_count": 204,
   "id": "a4b53260-1caa-4d08-84a2-a2a5b570ea0f",
   "metadata": {},
   "outputs": [
    {
     "data": {
      "image/png": "[encoded data removed]",
      "text/plain": [
       "<Figure size 864x288 with 1 Axes>"
      ]
     },
     "metadata": {
      "needs_background": "light"
     },
     "output_type": "display_data"
    }
   ],
   "source": [
    "import matplotlib.pyplot as plt\n",
    "import re\n",
    "import os\n",
    "\n",
    "loss_values = []\n",
    "\n",
    "with open(\n",
    "    os.path.join(OUTPUTS, 'train.log'), 'r'\n",
    ") as file:\n",
    "    for line in file:\n",
    "        # Use regex to find patterns of loss values in the log\n",
    "        match = re.search(r'loss: ([0-9]+\\.[0-9]+)', line)\n",
    "        if match:\n",
    "            # If a loss value is found, convert it to float and append it to the list\n",
    "            loss_values.append(float(match.group(1)))\n",
    "\n",
    "\n",
    "# Plot the loss values\n",
    "plt.figure(figsize=(12, 4))\n",
    "plt.plot(loss_values, label='Training Loss')\n",
    "plt.xlabel('Iterations')\n",
    "plt.ylabel('Loss')\n",
    "# plt.title('Change of Loss During Training')\n",
    "plt.grid()\n",
    "plt.legend()\n",
    "plt.savefig(os.path.join(OUTPUTS, 'img', 'loss.png'))\n",
    "plt.show()\n"
   ]
  },
  {
   "cell_type": "code",
   "execution_count": null,
   "id": "036c93cb-838c-462d-a07a-f2789fe67882",
   "metadata": {},
   "outputs": [],
   "source": []
  }
 ],
 "metadata": {
  "kernelspec": {
   "display_name": "Python 3 (ipykernel)",
   "language": "python",
   "name": "python3"
  },
  "language_info": {
   "codemirror_mode": {
    "name": "ipython",
    "version": 3
   },
   "file_extension": ".py",
   "mimetype": "text/x-python",
   "name": "python",
   "nbconvert_exporter": "python",
   "pygments_lexer": "ipython3",
   "version": "3.8.3"
  }
 },
 "nbformat": 4,
 "nbformat_minor": 5
}
